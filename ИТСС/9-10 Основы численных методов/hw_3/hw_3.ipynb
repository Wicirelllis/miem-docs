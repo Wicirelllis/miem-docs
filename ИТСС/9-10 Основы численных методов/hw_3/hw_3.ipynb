{
 "cells": [
  {
   "cell_type": "markdown",
   "metadata": {},
   "source": [
    "### Интерполяция\n",
    "##### Задача:\n",
    "Написать функцию, которая строит интерполяционный многочлен $P_{\\alpha}(x)$ на $[-k, k]$ для функции $$f(x) = 1 / (1 + x^2)$$ на равномерной сетке."
   ]
  },
  {
   "cell_type": "code",
   "execution_count": null,
   "metadata": {},
   "outputs": [],
   "source": [
    "import matplotlib.pyplot as plt\n",
    "import numpy as np\n",
    "\n",
    "def my_interpolation(x: np.ndarray, k: int = 5) -> np.ndarray:\n",
    "    \"\"\"Build Lagrange polynomial and calculate its values in points x.\"\"\"\n",
    "    xgrid = np.linspace(-k, k, 2 * k + 1, dtype=np.float64)\n",
    "    ygrid = 1. / (1 + xgrid ** 2)\n",
    "    res = []\n",
    "\n",
    "    for v in x:\n",
    "        s = 0.\n",
    "        for i in range(2 * k + 1):\n",
    "            p = 1.\n",
    "            for j in range(2 * k + 1):\n",
    "                if j == i:\n",
    "                    continue\n",
    "                p *= (v - xgrid[j]) / (xgrid[i] - xgrid[j]) * ygrid[i]\n",
    "            s += p\n",
    "        res.append(s)\n",
    "    return np.array(res, dtype=np.float64)\n",
    "\n",
    "\n",
    "x = np.linspace(-5, 5, 100)\n",
    "y = my_interpolation(x)\n",
    "# x = np.linspace(-10, 10, 1K)\n",
    "plt.plot(x, y, label=\"Lagrange polynomial\")\n",
    "plt.plot(x, 1. / (1 + x ** 2), label=\"Original function\")\n",
    "plt.legend()\n",
    "plt.show()\n"
   ]
  },
  {
   "cell_type": "code",
   "execution_count": null,
   "metadata": {},
   "outputs": [],
   "source": []
  }
 ],
 "metadata": {
  "kernelspec": {
   "display_name": "Python 3.9.5 64-bit",
   "language": "python",
   "name": "python3"
  },
  "language_info": {
   "codemirror_mode": {
    "name": "ipython",
    "version": 3
   },
   "file_extension": ".py",
   "mimetype": "text/x-python",
   "name": "python",
   "nbconvert_exporter": "python",
   "pygments_lexer": "ipython3",
   "version": "3.9.5"
  },
  "orig_nbformat": 4,
  "vscode": {
   "interpreter": {
    "hash": "e4a30f445a6abfa47c23fb7a24a4ee9bfb1063e8d1c9c3b76c91bc697bd1ef32"
   }
  }
 },
 "nbformat": 4,
 "nbformat_minor": 2
}
