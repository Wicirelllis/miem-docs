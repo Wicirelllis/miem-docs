{
 "cells": [
  {
   "cell_type": "markdown",
   "metadata": {},
   "source": [
    "### ДЗ 1\n",
    "#### I.2 (15)\n",
    "Рассмотрим интеграл $$I_n (\\alpha) = \\int_0^1 \\frac{x^n}{x+\\alpha} dx$$\n",
    "\n",
    "получите\n",
    "\n",
    "i) реккурентное соотношение связывающее $I_n$ и $I_{n-1}$\n",
    "\n",
    "ii) явное выражение для $I_0(\\alpha)$\n",
    "\n",
    "Вычислите (прямой и обратной) рекурсией значения $I_{25}(0.1), I_{25}(10)$. Прокомментируйте результат."
   ]
  },
  {
   "cell_type": "markdown",
   "metadata": {},
   "source": [
    "Я предполагаю, что $\\alpha > 0$.\n",
    "По-моему, это не уменьшает общности, но делает записи чуть проще."
   ]
  },
  {
   "cell_type": "markdown",
   "metadata": {},
   "source": [
    "Нелегко заметить, что\n",
    "$$I_n(\\alpha) = \\frac{1}{n} - \\alpha I_{n-1}$$\n",
    "\n",
    "Действительно, в вики есть страница https://en.wikipedia.org/wiki/Integration_by_reduction_formulae#Rational_functions, где есть следующая формула\n",
    "\n",
    "![pic](img/img_1.png \"1\")\n",
    "\n",
    "В нашем случае $a=1, b=0, p=1, q=\\alpha, m=n, n=1$\n",
    "\n",
    "Подставляя и упрощая, получаем выражение интеграла через предыдущий и следующий:\n",
    "\n",
    "$$I_n(\\alpha) = \\frac{1}{n} - \\alpha I_{n-1}(\\alpha)$$\n",
    "$$I_{n}(\\alpha) = \\frac{1}{\\alpha}\\left(\\frac{1}{n+1} - I_{n+1}\\right)$$"
   ]
  },
  {
   "cell_type": "markdown",
   "metadata": {},
   "source": [
    "Найдем нулевой интеграл:\n",
    "$$I_0(\\alpha) = \\int_0^1 \\frac{1}{x+\\alpha} dx = ln(x+\\alpha) \\bigg\\rvert_0^1 = ln \\left(1 + \\frac{1}{\\alpha}\\right)$$"
   ]
  },
  {
   "cell_type": "markdown",
   "metadata": {},
   "source": [
    "Напишем небольшой код для расчета по формулам выше.\n",
    "При обратной рекурсии я считал 50-й интеграл нулем, т.к. при росте $n$ интегралы стремятся к $0$."
   ]
  },
  {
   "cell_type": "code",
   "execution_count": 1,
   "metadata": {},
   "outputs": [
    {
     "name": "stdout",
     "output_type": "stream",
     "text": [
      "    n = 25, alpha = 0.1\n",
      "forward : 0.03622697090911682\n",
      "backward: -1.779302186530058e+24\n",
      "    n = 25, alpha = 10\n",
      "forward : -748346367.4013903\n",
      "backward: 0.0035083534096819772\n"
     ]
    }
   ],
   "source": [
    "import numpy as np\n",
    "\n",
    "def forward_calc(n: int, alpha: float = 0.1) -> float:\n",
    "    if n == 0:\n",
    "        return np.log(1 + 1 / alpha)\n",
    "    else:\n",
    "        return 1 / n - alpha * forward_calc(n-1, alpha)\n",
    "\n",
    "def backward_calc(n: int, alpha: float = 0.1) -> float:\n",
    "    if n > 50:\n",
    "        return 0.0\n",
    "    else:\n",
    "        return (1 / (n + 1) - backward_calc(n+1, alpha)) / alpha\n",
    "\n",
    "print(\"    n = 25, alpha = 0.1\")\n",
    "print(f\"forward : {forward_calc(25, 0.1)}\") # good\n",
    "print(f\"backward: {backward_calc(25, 0.1)}\") # bad\n",
    "\n",
    "print(\"    n = 25, alpha = 10\")\n",
    "print(f\"forward : {forward_calc(25, 10)}\") # bad\n",
    "print(f\"backward: {backward_calc(25, 10)}\") # good\n"
   ]
  },
  {
   "cell_type": "markdown",
   "metadata": {},
   "source": [
    "Т.к. подынтегральная функция положительная на $[0;1]$ отрицательные ответы выше указывают на проблемы.\n",
    "Происходит из-за умножения\\деления на $\\alpha$.\n",
    "В приямой формуле умножение, поэтому когда $\\alpha$ мало эта формула работает лучше.\n",
    "В обратной - деление, и она точнее при больших $\\alpha$."
   ]
  },
  {
   "cell_type": "markdown",
   "metadata": {},
   "source": [
    "#### I.3 (10)\n",
    "Рассмотри рекуррентное соотношение\n",
    "$$a_n = -a_{n-1} +6a_{n-2}, a_0 = 1, a_1 = 2$$\n",
    "\n",
    "Составим характерестическое уравнение и решим его:\n",
    "$$q^2 = -q + 6$$\n",
    "$$q = -3, q = 2$$\n",
    "\n",
    "Откуда общее решение рекуррентного соотношения:\n",
    "$$a_n = C_1 (-3)^n + C_2 2^n$$\n",
    "\n",
    "Подставляя вместо $n$ $0$ и $1$ получаем начальные условия:\n",
    "$$1 = C_1 + C_2$$\n",
    "$$2 = -3 C_1 + 2 C_2$$\n",
    "\n",
    "Откуда\n",
    "$$C_1 = 0, C_2 = 1$$\n",
    "\n",
    "И итоговое решение рекуррентного соотношения (учитывая начальные условия):\n",
    "$$a_n = 2^n$$\n",
    "\n",
    "И поэтому\n",
    "```python\n",
    "recur(2021) = 2^2021\n",
    "```"
   ]
  },
  {
   "cell_type": "markdown",
   "metadata": {},
   "source": [
    "Посмотрим теперь, что поменяется если $a_1 = 2 + \\varepsilon$\n",
    "\n",
    "Общее решение рекуррентного соотношения останется тем же, т.к не зависит от начальных данных.\n",
    "Изменятся константы $C_1$ и $C_2$.\n",
    "\n",
    "Система будет иметь вид\n",
    "$$1 = C_1 + C_2$$\n",
    "$$2 + \\varepsilon = -3 C_1 + 2 C_2$$\n",
    "\n",
    "Её решениями будут\n",
    "$$C_1 = -\\frac{\\varepsilon}{5}, C_2 = 1 + \\frac{\\varepsilon}{5}$$\n",
    "\n",
    "И итоговое решение рекуррентного соотношения будет иметь вид\n",
    "$$a_n = -\\frac{\\varepsilon}{5} (-3)^n + \\left(1 + \\frac{\\varepsilon}{5}\\right) 2^n$$"
   ]
  },
  {
   "cell_type": "markdown",
   "metadata": {},
   "source": [
    "Можно заметить, что для любых, сколь угодно малых $\\varepsilon$ при достаточно больших $n$ первое слагаемое будет сильно больше (по модулю) вторго, из-за чего знак $a_n$ будет чередоваться - плюс, минус, плюс, минус, и т.д.\n",
    "Это довольно сильное отичие от предыдущего случая, где $a_n$ просто росли с ростом $n$."
   ]
  },
  {
   "cell_type": "code",
   "execution_count": 2,
   "metadata": {},
   "outputs": [],
   "source": [
    "# DO NOT RUN, this code takes too long even for n = 100, let alone 2021\n",
    "\n",
    "def recur(n: int, a0: int = 1, a1: int = 2) -> int:\n",
    "    if n == 0:\n",
    "        return a0\n",
    "    if n == 1:\n",
    "        return a1\n",
    "    return -recur(n-1, a0, a1) + 6 * recur(n-2, a0, a1)\n"
   ]
  },
  {
   "cell_type": "markdown",
   "metadata": {},
   "source": [
    "#### I.4 (5)\n",
    "Рассмотрим матрицу\n",
    "$$A = \\begin{pmatrix}\n",
    "1 & 10 \\\\\n",
    "\\delta & 1\n",
    "\\end{pmatrix}$$\n",
    "\n",
    "Собственные числа этой матрицы - корни $\\lambda$ уравнения ($E$ - единичная матрица)\n",
    "$$A - \\lambda E = 0$$\n",
    "\n",
    "В нашем случае:\n",
    "$$(1-\\lambda)^2 - 10\\delta = 0$$\n",
    "$$\\lambda = 1 \\pm \\sqrt{10\\delta}$$\n",
    "\n",
    "Откуда наибольшее собственное значение\n",
    "$$\\varepsilon(\\delta) = 1 + \\sqrt{10\\delta}$$"
   ]
  },
  {
   "cell_type": "markdown",
   "metadata": {},
   "source": [
    "Я не уверен в правильности написанного ниже.\n",
    "\n",
    "Будто бы для дифференцируемой функции $f(x)$ число обусловленности можно считать по формуле\n",
    "$$\\kappa = \\left\\lvert \\frac{xf'(x)}{f(x)} \\right\\rvert$$\n",
    "\n",
    "$$\\varepsilon'(\\delta) = \\sqrt{\\frac{10}{4\\delta}}$$\n",
    "\n",
    "Откуда\n",
    "$$\\kappa(\\delta) = \\left\\lvert \\frac{\\delta \\sqrt{\\frac{10}{4\\delta}}}{1 + \\sqrt{10\\delta}} \\right\\rvert = \\frac{\\sqrt{2.5\\delta}}{1+2\\sqrt{2.5\\delta}}$$\n",
    "\n",
    "Подставляя числа\n",
    "$$\\kappa(10) \\approx 0.45$$\n",
    "$$\\kappa(0.1) = 0.25$$"
   ]
  },
  {
   "cell_type": "markdown",
   "metadata": {},
   "source": [
    "Я затрудняюсь прокомментировать результат выше.\n",
    "Вроде, когда число обусловленности ($\\kappa$) меньше 1, это достаточно хороошо."
   ]
  }
 ],
 "metadata": {
  "kernelspec": {
   "display_name": "Python 3.9.5 64-bit",
   "language": "python",
   "name": "python3"
  },
  "language_info": {
   "codemirror_mode": {
    "name": "ipython",
    "version": 3
   },
   "file_extension": ".py",
   "mimetype": "text/x-python",
   "name": "python",
   "nbconvert_exporter": "python",
   "pygments_lexer": "ipython3",
   "version": "3.9.5"
  },
  "orig_nbformat": 4,
  "vscode": {
   "interpreter": {
    "hash": "e4a30f445a6abfa47c23fb7a24a4ee9bfb1063e8d1c9c3b76c91bc697bd1ef32"
   }
  }
 },
 "nbformat": 4,
 "nbformat_minor": 2
}
